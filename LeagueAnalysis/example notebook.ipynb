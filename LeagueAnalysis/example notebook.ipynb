{
 "cells": [
  {
   "cell_type": "markdown",
   "id": "571d52ee",
   "metadata": {},
   "source": [
    "## League Analysis Example\n",
    "\n",
    "A example of analysis in game data from riots api"
   ]
  },
  {
   "cell_type": "code",
   "execution_count": 1,
   "id": "a9b9aa0e",
   "metadata": {},
   "outputs": [],
   "source": [
    "import pandas as pd\n",
    "import matplotlib.pyplot as plt\n",
    "from matplotlib.pyplot import figure\n",
    "import numpy as np\n",
    "\n",
    "from LeagueAnalysis import LeagueAnalysis\n",
    "from pprint import pprint"
   ]
  },
  {
   "cell_type": "markdown",
   "id": "7932812a",
   "metadata": {},
   "source": [
    "### Firstly initalise the class with your working api key.\n",
    "You can obtain a api key from: https://developer.riotgames.com/. \n",
    "However, the api key is only valid for 24hours.  This is one of reasons for caching the reponses from riots api within a local databse."
   ]
  },
  {
   "cell_type": "code",
   "execution_count": 2,
   "id": "9bb8fcf2",
   "metadata": {},
   "outputs": [],
   "source": [
    "# Initalise the class with your working api key:\n",
    "apiKey = \"RGAPI-b0201a7b-93b7-48e4-a2d0-e162150cd6c7\"\n",
    "lolA = LeagueAnalysis(apiKey, summonerName=\"Froggen\" )"
   ]
  },
  {
   "cell_type": "markdown",
   "id": "9780af33",
   "metadata": {},
   "source": [
    "The create_mastery_table method uses information returned from champion-mastery-v4 and the data dragon to create the resulting dataframe."
   ]
  },
  {
   "cell_type": "code",
   "execution_count": 3,
   "id": "b36c1919",
   "metadata": {
    "scrolled": true
   },
   "outputs": [
    {
     "data": {
      "text/html": [
       "<div>\n",
       "<style scoped>\n",
       "    .dataframe tbody tr th:only-of-type {\n",
       "        vertical-align: middle;\n",
       "    }\n",
       "\n",
       "    .dataframe tbody tr th {\n",
       "        vertical-align: top;\n",
       "    }\n",
       "\n",
       "    .dataframe thead th {\n",
       "        text-align: right;\n",
       "    }\n",
       "</style>\n",
       "<table border=\"1\" class=\"dataframe\">\n",
       "  <thead>\n",
       "    <tr style=\"text-align: right;\">\n",
       "      <th></th>\n",
       "      <th>name</th>\n",
       "      <th>championLevel</th>\n",
       "      <th>championPoints</th>\n",
       "      <th>lastTimePlayed-dt</th>\n",
       "    </tr>\n",
       "  </thead>\n",
       "  <tbody>\n",
       "    <tr>\n",
       "      <th>0</th>\n",
       "      <td>Anivia</td>\n",
       "      <td>7</td>\n",
       "      <td>352515</td>\n",
       "      <td>2021-12-02 13:04:16</td>\n",
       "    </tr>\n",
       "    <tr>\n",
       "      <th>1</th>\n",
       "      <td>LeBlanc</td>\n",
       "      <td>7</td>\n",
       "      <td>77950</td>\n",
       "      <td>2021-11-27 13:03:38</td>\n",
       "    </tr>\n",
       "    <tr>\n",
       "      <th>2</th>\n",
       "      <td>Lux</td>\n",
       "      <td>7</td>\n",
       "      <td>75682</td>\n",
       "      <td>2021-11-26 10:20:30</td>\n",
       "    </tr>\n",
       "    <tr>\n",
       "      <th>3</th>\n",
       "      <td>Twisted Fate</td>\n",
       "      <td>7</td>\n",
       "      <td>70715</td>\n",
       "      <td>2021-11-26 12:01:36</td>\n",
       "    </tr>\n",
       "    <tr>\n",
       "      <th>4</th>\n",
       "      <td>Veigar</td>\n",
       "      <td>7</td>\n",
       "      <td>66019</td>\n",
       "      <td>2021-11-27 17:26:56</td>\n",
       "    </tr>\n",
       "    <tr>\n",
       "      <th>5</th>\n",
       "      <td>Karthus</td>\n",
       "      <td>7</td>\n",
       "      <td>60517</td>\n",
       "      <td>2021-10-10 12:16:52</td>\n",
       "    </tr>\n",
       "    <tr>\n",
       "      <th>6</th>\n",
       "      <td>Ezreal</td>\n",
       "      <td>7</td>\n",
       "      <td>60039</td>\n",
       "      <td>2021-12-01 15:28:11</td>\n",
       "    </tr>\n",
       "    <tr>\n",
       "      <th>7</th>\n",
       "      <td>Gangplank</td>\n",
       "      <td>7</td>\n",
       "      <td>55371</td>\n",
       "      <td>2021-09-16 12:02:47</td>\n",
       "    </tr>\n",
       "    <tr>\n",
       "      <th>8</th>\n",
       "      <td>Viktor</td>\n",
       "      <td>6</td>\n",
       "      <td>51193</td>\n",
       "      <td>2021-12-01 12:27:47</td>\n",
       "    </tr>\n",
       "    <tr>\n",
       "      <th>9</th>\n",
       "      <td>Kassadin</td>\n",
       "      <td>7</td>\n",
       "      <td>45264</td>\n",
       "      <td>2021-10-13 10:50:45</td>\n",
       "    </tr>\n",
       "  </tbody>\n",
       "</table>\n",
       "</div>"
      ],
      "text/plain": [
       "           name  championLevel  championPoints   lastTimePlayed-dt\n",
       "0        Anivia              7          352515 2021-12-02 13:04:16\n",
       "1       LeBlanc              7           77950 2021-11-27 13:03:38\n",
       "2           Lux              7           75682 2021-11-26 10:20:30\n",
       "3  Twisted Fate              7           70715 2021-11-26 12:01:36\n",
       "4        Veigar              7           66019 2021-11-27 17:26:56\n",
       "5       Karthus              7           60517 2021-10-10 12:16:52\n",
       "6        Ezreal              7           60039 2021-12-01 15:28:11\n",
       "7     Gangplank              7           55371 2021-09-16 12:02:47\n",
       "8        Viktor              6           51193 2021-12-01 12:27:47\n",
       "9      Kassadin              7           45264 2021-10-13 10:50:45"
      ]
     },
     "execution_count": 3,
     "metadata": {},
     "output_type": "execute_result"
    }
   ],
   "source": [
    "# Creating a champion mastery list:\n",
    "df =  lolA.create_mastery_table()\n",
    "df.head(10)"
   ]
  },
  {
   "cell_type": "markdown",
   "id": "3ba7a602",
   "metadata": {},
   "source": [
    "This method has the option to override/use another summoner name other than the one used int the initalisation, as can be seen below."
   ]
  },
  {
   "cell_type": "code",
   "execution_count": 4,
   "id": "f33977ea",
   "metadata": {},
   "outputs": [
    {
     "data": {
      "text/html": [
       "<div>\n",
       "<style scoped>\n",
       "    .dataframe tbody tr th:only-of-type {\n",
       "        vertical-align: middle;\n",
       "    }\n",
       "\n",
       "    .dataframe tbody tr th {\n",
       "        vertical-align: top;\n",
       "    }\n",
       "\n",
       "    .dataframe thead th {\n",
       "        text-align: right;\n",
       "    }\n",
       "</style>\n",
       "<table border=\"1\" class=\"dataframe\">\n",
       "  <thead>\n",
       "    <tr style=\"text-align: right;\">\n",
       "      <th></th>\n",
       "      <th>name</th>\n",
       "      <th>championLevel</th>\n",
       "      <th>championPoints</th>\n",
       "      <th>lastTimePlayed-dt</th>\n",
       "    </tr>\n",
       "  </thead>\n",
       "  <tbody>\n",
       "    <tr>\n",
       "      <th>0</th>\n",
       "      <td>Twitch</td>\n",
       "      <td>7</td>\n",
       "      <td>676706</td>\n",
       "      <td>2021-12-16 14:25:44</td>\n",
       "    </tr>\n",
       "    <tr>\n",
       "      <th>1</th>\n",
       "      <td>Brand</td>\n",
       "      <td>7</td>\n",
       "      <td>471811</td>\n",
       "      <td>2021-12-16 12:56:00</td>\n",
       "    </tr>\n",
       "    <tr>\n",
       "      <th>2</th>\n",
       "      <td>Xerath</td>\n",
       "      <td>7</td>\n",
       "      <td>132481</td>\n",
       "      <td>2021-11-20 14:05:38</td>\n",
       "    </tr>\n",
       "    <tr>\n",
       "      <th>3</th>\n",
       "      <td>Evelynn</td>\n",
       "      <td>5</td>\n",
       "      <td>70908</td>\n",
       "      <td>2021-08-22 00:20:12</td>\n",
       "    </tr>\n",
       "    <tr>\n",
       "      <th>4</th>\n",
       "      <td>Master Yi</td>\n",
       "      <td>7</td>\n",
       "      <td>69670</td>\n",
       "      <td>2021-12-04 09:42:03</td>\n",
       "    </tr>\n",
       "    <tr>\n",
       "      <th>5</th>\n",
       "      <td>Veigar</td>\n",
       "      <td>7</td>\n",
       "      <td>58826</td>\n",
       "      <td>2021-08-04 13:12:12</td>\n",
       "    </tr>\n",
       "    <tr>\n",
       "      <th>6</th>\n",
       "      <td>Nami</td>\n",
       "      <td>7</td>\n",
       "      <td>53324</td>\n",
       "      <td>2021-12-13 11:49:25</td>\n",
       "    </tr>\n",
       "    <tr>\n",
       "      <th>7</th>\n",
       "      <td>Kha'Zix</td>\n",
       "      <td>5</td>\n",
       "      <td>52954</td>\n",
       "      <td>2021-06-14 02:40:13</td>\n",
       "    </tr>\n",
       "    <tr>\n",
       "      <th>8</th>\n",
       "      <td>Lulu</td>\n",
       "      <td>5</td>\n",
       "      <td>49639</td>\n",
       "      <td>2021-12-10 12:46:25</td>\n",
       "    </tr>\n",
       "    <tr>\n",
       "      <th>9</th>\n",
       "      <td>Tristana</td>\n",
       "      <td>5</td>\n",
       "      <td>33342</td>\n",
       "      <td>2021-08-08 19:59:53</td>\n",
       "    </tr>\n",
       "  </tbody>\n",
       "</table>\n",
       "</div>"
      ],
      "text/plain": [
       "        name  championLevel  championPoints   lastTimePlayed-dt\n",
       "0     Twitch              7          676706 2021-12-16 14:25:44\n",
       "1      Brand              7          471811 2021-12-16 12:56:00\n",
       "2     Xerath              7          132481 2021-11-20 14:05:38\n",
       "3    Evelynn              5           70908 2021-08-22 00:20:12\n",
       "4  Master Yi              7           69670 2021-12-04 09:42:03\n",
       "5     Veigar              7           58826 2021-08-04 13:12:12\n",
       "6       Nami              7           53324 2021-12-13 11:49:25\n",
       "7    Kha'Zix              5           52954 2021-06-14 02:40:13\n",
       "8       Lulu              5           49639 2021-12-10 12:46:25\n",
       "9   Tristana              5           33342 2021-08-08 19:59:53"
      ]
     },
     "execution_count": 4,
     "metadata": {},
     "output_type": "execute_result"
    }
   ],
   "source": [
    "# Creating a champion mastery list with a different summoner name :\n",
    "df =  lolA.create_mastery_table(summoner_name='Moving Object 2')\n",
    "df.head(10)"
   ]
  },
  {
   "cell_type": "markdown",
   "id": "5441f53b",
   "metadata": {},
   "source": [
    "Through the used of the match-v5 endpoing a timeline of events can obtained via the create_event_timeline_dataframe method."
   ]
  },
  {
   "cell_type": "code",
   "execution_count": 5,
   "id": "d4d30977",
   "metadata": {},
   "outputs": [
    {
     "data": {
      "text/html": [
       "<div>\n",
       "<style scoped>\n",
       "    .dataframe tbody tr th:only-of-type {\n",
       "        vertical-align: middle;\n",
       "    }\n",
       "\n",
       "    .dataframe tbody tr th {\n",
       "        vertical-align: top;\n",
       "    }\n",
       "\n",
       "    .dataframe thead th {\n",
       "        text-align: right;\n",
       "    }\n",
       "</style>\n",
       "<table border=\"1\" class=\"dataframe\">\n",
       "  <thead>\n",
       "    <tr style=\"text-align: right;\">\n",
       "      <th></th>\n",
       "      <th>realTimestamp</th>\n",
       "      <th>timestamp</th>\n",
       "      <th>type</th>\n",
       "      <th>itemId</th>\n",
       "      <th>participantId</th>\n",
       "      <th>levelUpType</th>\n",
       "      <th>skillSlot</th>\n",
       "      <th>creatorId</th>\n",
       "      <th>wardType</th>\n",
       "      <th>level</th>\n",
       "      <th>...</th>\n",
       "      <th>summonerName_victim</th>\n",
       "      <th>summonerId_victim</th>\n",
       "      <th>championName_victim</th>\n",
       "      <th>individualPosition_victim</th>\n",
       "      <th>participantId_killer</th>\n",
       "      <th>puuid_killer</th>\n",
       "      <th>summonerName_killer</th>\n",
       "      <th>summonerId_killer</th>\n",
       "      <th>championName_killer</th>\n",
       "      <th>individualPosition_killer</th>\n",
       "    </tr>\n",
       "  </thead>\n",
       "  <tbody>\n",
       "    <tr>\n",
       "      <th>0</th>\n",
       "      <td>1.639663e+12</td>\n",
       "      <td>0</td>\n",
       "      <td>PAUSE_END</td>\n",
       "      <td>NaN</td>\n",
       "      <td>NaN</td>\n",
       "      <td>NaN</td>\n",
       "      <td>NaN</td>\n",
       "      <td>NaN</td>\n",
       "      <td>NaN</td>\n",
       "      <td>NaN</td>\n",
       "      <td>...</td>\n",
       "      <td>NaN</td>\n",
       "      <td>NaN</td>\n",
       "      <td>NaN</td>\n",
       "      <td>NaN</td>\n",
       "      <td>NaN</td>\n",
       "      <td>NaN</td>\n",
       "      <td>NaN</td>\n",
       "      <td>NaN</td>\n",
       "      <td>NaN</td>\n",
       "      <td>NaN</td>\n",
       "    </tr>\n",
       "    <tr>\n",
       "      <th>1</th>\n",
       "      <td>NaN</td>\n",
       "      <td>25104</td>\n",
       "      <td>WARD_PLACED</td>\n",
       "      <td>NaN</td>\n",
       "      <td>NaN</td>\n",
       "      <td>NaN</td>\n",
       "      <td>NaN</td>\n",
       "      <td>5.0</td>\n",
       "      <td>UNDEFINED</td>\n",
       "      <td>NaN</td>\n",
       "      <td>...</td>\n",
       "      <td>NaN</td>\n",
       "      <td>NaN</td>\n",
       "      <td>NaN</td>\n",
       "      <td>NaN</td>\n",
       "      <td>NaN</td>\n",
       "      <td>NaN</td>\n",
       "      <td>NaN</td>\n",
       "      <td>NaN</td>\n",
       "      <td>NaN</td>\n",
       "      <td>NaN</td>\n",
       "    </tr>\n",
       "    <tr>\n",
       "      <th>2</th>\n",
       "      <td>NaN</td>\n",
       "      <td>25104</td>\n",
       "      <td>WARD_PLACED</td>\n",
       "      <td>NaN</td>\n",
       "      <td>NaN</td>\n",
       "      <td>NaN</td>\n",
       "      <td>NaN</td>\n",
       "      <td>0.0</td>\n",
       "      <td>UNDEFINED</td>\n",
       "      <td>NaN</td>\n",
       "      <td>...</td>\n",
       "      <td>NaN</td>\n",
       "      <td>NaN</td>\n",
       "      <td>NaN</td>\n",
       "      <td>NaN</td>\n",
       "      <td>NaN</td>\n",
       "      <td>NaN</td>\n",
       "      <td>NaN</td>\n",
       "      <td>NaN</td>\n",
       "      <td>NaN</td>\n",
       "      <td>NaN</td>\n",
       "    </tr>\n",
       "    <tr>\n",
       "      <th>3</th>\n",
       "      <td>NaN</td>\n",
       "      <td>25104</td>\n",
       "      <td>WARD_PLACED</td>\n",
       "      <td>NaN</td>\n",
       "      <td>NaN</td>\n",
       "      <td>NaN</td>\n",
       "      <td>NaN</td>\n",
       "      <td>5.0</td>\n",
       "      <td>UNDEFINED</td>\n",
       "      <td>NaN</td>\n",
       "      <td>...</td>\n",
       "      <td>NaN</td>\n",
       "      <td>NaN</td>\n",
       "      <td>NaN</td>\n",
       "      <td>NaN</td>\n",
       "      <td>NaN</td>\n",
       "      <td>NaN</td>\n",
       "      <td>NaN</td>\n",
       "      <td>NaN</td>\n",
       "      <td>NaN</td>\n",
       "      <td>NaN</td>\n",
       "    </tr>\n",
       "    <tr>\n",
       "      <th>4</th>\n",
       "      <td>NaN</td>\n",
       "      <td>25104</td>\n",
       "      <td>WARD_PLACED</td>\n",
       "      <td>NaN</td>\n",
       "      <td>NaN</td>\n",
       "      <td>NaN</td>\n",
       "      <td>NaN</td>\n",
       "      <td>0.0</td>\n",
       "      <td>UNDEFINED</td>\n",
       "      <td>NaN</td>\n",
       "      <td>...</td>\n",
       "      <td>NaN</td>\n",
       "      <td>NaN</td>\n",
       "      <td>NaN</td>\n",
       "      <td>NaN</td>\n",
       "      <td>NaN</td>\n",
       "      <td>NaN</td>\n",
       "      <td>NaN</td>\n",
       "      <td>NaN</td>\n",
       "      <td>NaN</td>\n",
       "      <td>NaN</td>\n",
       "    </tr>\n",
       "  </tbody>\n",
       "</table>\n",
       "<p>5 rows × 50 columns</p>\n",
       "</div>"
      ],
      "text/plain": [
       "   realTimestamp  timestamp         type  itemId  participantId levelUpType  \\\n",
       "0   1.639663e+12          0    PAUSE_END     NaN            NaN         NaN   \n",
       "1            NaN      25104  WARD_PLACED     NaN            NaN         NaN   \n",
       "2            NaN      25104  WARD_PLACED     NaN            NaN         NaN   \n",
       "3            NaN      25104  WARD_PLACED     NaN            NaN         NaN   \n",
       "4            NaN      25104  WARD_PLACED     NaN            NaN         NaN   \n",
       "\n",
       "   skillSlot  creatorId   wardType  level  ...  summonerName_victim  \\\n",
       "0        NaN        NaN        NaN    NaN  ...                  NaN   \n",
       "1        NaN        5.0  UNDEFINED    NaN  ...                  NaN   \n",
       "2        NaN        0.0  UNDEFINED    NaN  ...                  NaN   \n",
       "3        NaN        5.0  UNDEFINED    NaN  ...                  NaN   \n",
       "4        NaN        0.0  UNDEFINED    NaN  ...                  NaN   \n",
       "\n",
       "   summonerId_victim  championName_victim individualPosition_victim  \\\n",
       "0                NaN                  NaN                       NaN   \n",
       "1                NaN                  NaN                       NaN   \n",
       "2                NaN                  NaN                       NaN   \n",
       "3                NaN                  NaN                       NaN   \n",
       "4                NaN                  NaN                       NaN   \n",
       "\n",
       "  participantId_killer puuid_killer  summonerName_killer summonerId_killer  \\\n",
       "0                  NaN          NaN                  NaN               NaN   \n",
       "1                  NaN          NaN                  NaN               NaN   \n",
       "2                  NaN          NaN                  NaN               NaN   \n",
       "3                  NaN          NaN                  NaN               NaN   \n",
       "4                  NaN          NaN                  NaN               NaN   \n",
       "\n",
       "   championName_killer  individualPosition_killer  \n",
       "0                  NaN                        NaN  \n",
       "1                  NaN                        NaN  \n",
       "2                  NaN                        NaN  \n",
       "3                  NaN                        NaN  \n",
       "4                  NaN                        NaN  \n",
       "\n",
       "[5 rows x 50 columns]"
      ]
     },
     "execution_count": 5,
     "metadata": {},
     "output_type": "execute_result"
    }
   ],
   "source": [
    "# create a event timeline dataframe for analysis\n",
    "result = lolA.create_event_timeline_dataframe('EUW1_5612017679')\n",
    "result.head()"
   ]
  },
  {
   "cell_type": "markdown",
   "id": "d90fef25",
   "metadata": {},
   "source": [
    "Dataframe manipulation can be implemented to filter down the dataframe for the events of interest."
   ]
  },
  {
   "cell_type": "code",
   "execution_count": 6,
   "id": "07acd643",
   "metadata": {
    "scrolled": true
   },
   "outputs": [
    {
     "data": {
      "text/html": [
       "<div>\n",
       "<style scoped>\n",
       "    .dataframe tbody tr th:only-of-type {\n",
       "        vertical-align: middle;\n",
       "    }\n",
       "\n",
       "    .dataframe tbody tr th {\n",
       "        vertical-align: top;\n",
       "    }\n",
       "\n",
       "    .dataframe thead th {\n",
       "        text-align: right;\n",
       "    }\n",
       "</style>\n",
       "<table border=\"1\" class=\"dataframe\">\n",
       "  <thead>\n",
       "    <tr style=\"text-align: right;\">\n",
       "      <th></th>\n",
       "      <th>time</th>\n",
       "      <th>summonerName_victim</th>\n",
       "      <th>championName_victim</th>\n",
       "      <th>summonerName_killer</th>\n",
       "      <th>championName_killer</th>\n",
       "    </tr>\n",
       "  </thead>\n",
       "  <tbody>\n",
       "    <tr>\n",
       "      <th>1465</th>\n",
       "      <td>2.391600</td>\n",
       "      <td>NaN</td>\n",
       "      <td>NaN</td>\n",
       "      <td>Jedebutetop</td>\n",
       "      <td>Jax</td>\n",
       "    </tr>\n",
       "    <tr>\n",
       "      <th>1473</th>\n",
       "      <td>2.391600</td>\n",
       "      <td>Naak Nako</td>\n",
       "      <td>Irelia</td>\n",
       "      <td>Jedebutetop</td>\n",
       "      <td>Jax</td>\n",
       "    </tr>\n",
       "    <tr>\n",
       "      <th>1498</th>\n",
       "      <td>3.542833</td>\n",
       "      <td>Naak Nako</td>\n",
       "      <td>Irelia</td>\n",
       "      <td>CpT Amiral</td>\n",
       "      <td>Viego</td>\n",
       "    </tr>\n",
       "    <tr>\n",
       "      <th>1580</th>\n",
       "      <td>3.581917</td>\n",
       "      <td>Jedebutetop</td>\n",
       "      <td>Jax</td>\n",
       "      <td>Foutriquet</td>\n",
       "      <td>XinZhao</td>\n",
       "    </tr>\n",
       "    <tr>\n",
       "      <th>1479</th>\n",
       "      <td>3.701900</td>\n",
       "      <td>NaN</td>\n",
       "      <td>NaN</td>\n",
       "      <td>CpT Amiral</td>\n",
       "      <td>Viego</td>\n",
       "    </tr>\n",
       "  </tbody>\n",
       "</table>\n",
       "</div>"
      ],
      "text/plain": [
       "          time summonerName_victim championName_victim summonerName_killer  \\\n",
       "1465  2.391600                 NaN                 NaN         Jedebutetop   \n",
       "1473  2.391600           Naak Nako              Irelia         Jedebutetop   \n",
       "1498  3.542833           Naak Nako              Irelia         CpT Amiral    \n",
       "1580  3.581917         Jedebutetop                 Jax          Foutriquet   \n",
       "1479  3.701900                 NaN                 NaN         CpT Amiral    \n",
       "\n",
       "     championName_killer  \n",
       "1465                 Jax  \n",
       "1473                 Jax  \n",
       "1498               Viego  \n",
       "1580             XinZhao  \n",
       "1479               Viego  "
      ]
     },
     "execution_count": 6,
     "metadata": {},
     "output_type": "execute_result"
    }
   ],
   "source": [
    "# from the event timeline dataframe obtain only the kills and special kills (multi-kills?)\n",
    "kill_df = result[ (result['type'] == 'CHAMPION_KILL') | (result['type'] == 'CHAMPION_SPECIAL_KILL')].copy()\n",
    "kill_df['time'] = kill_df['timestamp']/1000/60\n",
    "kill_df[['time','summonerName_victim','championName_victim','summonerName_killer','championName_killer']].sort_values('time').head()"
   ]
  },
  {
   "cell_type": "markdown",
   "id": "a63849a6",
   "metadata": {},
   "source": [
    "Another set of statistics provided the match-v5 endpoint are key statistics of the summoner every minute of the game. Such as total gold, and total damage dealt.  The create_champion_timeline_dataframe method will create a dataframe for all of these statistics.  However, some KPIs are nested within a dictionary and these can be extracted later if required."
   ]
  },
  {
   "cell_type": "code",
   "execution_count": 7,
   "id": "667c5320",
   "metadata": {
    "scrolled": true
   },
   "outputs": [],
   "source": [
    "# Create the chamption timeline dataframe -- this is mainly stats and kpi's\n",
    "tsData = lolA.create_champion_timeline_dataframe('EUW1_5612017679')"
   ]
  },
  {
   "cell_type": "markdown",
   "id": "de00b464",
   "metadata": {},
   "source": [
    "The data within the champion timeline dataframe can be used to plot selected KPIs againts another chamption.  The cell below how to compare one summoner to another within a *single* game."
   ]
  },
  {
   "cell_type": "code",
   "execution_count": 8,
   "id": "f229c0af",
   "metadata": {
    "scrolled": true
   },
   "outputs": [
    {
     "name": "stdout",
     "output_type": "stream",
     "text": [
      "List of roles avaliable:  ['TOP' 'JUNGLE' 'MIDDLE' 'BOTTOM' 'UTILITY']\n"
     ]
    },
    {
     "data": {
      "text/plain": [
       "<matplotlib.legend.Legend at 0x193b48cb310>"
      ]
     },
     "execution_count": 8,
     "metadata": {},
     "output_type": "execute_result"
    },
    {
     "data": {
      "image/png": "[encoded data removed]",
      "text/plain": [
       "<Figure size 432x288 with 1 Axes>"
      ]
     },
     "metadata": {
      "needs_background": "light"
     },
     "output_type": "display_data"
    }
   ],
   "source": [
    "# Use the chamption timeline dataframe to plot the data\n",
    "\n",
    "# Expant the damage stats and champion stats if required\n",
    "champion_df_dict = lolA.parse_champion_timeline_dataframe(tsData)\n",
    "\n",
    "# Option 1: Plot everyones total gold:\n",
    "champs_to_plot = tsData['championName'].unique()\n",
    "\n",
    "# Option 2: Explicitly select the champs:\n",
    "champs_to_plot = ['Twitch','Xayah']\n",
    "\n",
    "# Option 3: Select a roll\n",
    "print('List of roles avaliable: ',tsData['individualPosition'].unique())\n",
    "champs_to_plot = tsData[ tsData['individualPosition'] == 'BOTTOM' ]['championName'].unique()\n",
    "\n",
    "# Option 4: Your own way of deciding how to plot data\n",
    "\n",
    "# Plotting the data\n",
    "plotting_key = 'totalGold'\n",
    "for champ in champs_to_plot:\n",
    "    plt.plot(champion_df_dict[champ]['time'],champion_df_dict[champ][plotting_key])\n",
    "    plt.grid(True)\n",
    "    plt.xlabel('Minutes into game')\n",
    "    plt.ylabel(plotting_key)\n",
    "    \n",
    "plt.legend(champs_to_plot)"
   ]
  },
  {
   "cell_type": "markdown",
   "id": "13c18d61",
   "metadata": {},
   "source": [
    "Some of the KPIs which are nested maybe of intrest, such as true daamage dealt. Implementing the expand_champion_stats method will expand these KPIs for the entire dataframe"
   ]
  },
  {
   "cell_type": "code",
   "execution_count": 9,
   "id": "31d6671c",
   "metadata": {},
   "outputs": [
    {
     "name": "stdout",
     "output_type": "stream",
     "text": [
      "Wall time: 4.92 s\n"
     ]
    }
   ],
   "source": [
    "%%time\n",
    "# expand the DataFrame for additional KPI's/Stats\n",
    "tsData_expanded = lolA.expand_champion_stats(tsData)"
   ]
  },
  {
   "cell_type": "markdown",
   "id": "4c8a895a",
   "metadata": {},
   "source": [
    "Similar to the plot above, the cell below plots the true damage dealt for the bot lane champions."
   ]
  },
  {
   "cell_type": "code",
   "execution_count": 10,
   "id": "fa2cc601",
   "metadata": {},
   "outputs": [
    {
     "name": "stdout",
     "output_type": "stream",
     "text": [
      "List of roles avaliable:  ['TOP' 'JUNGLE' 'MIDDLE' 'BOTTOM' 'UTILITY']\n"
     ]
    },
    {
     "data": {
      "text/plain": [
       "<matplotlib.legend.Legend at 0x193b3b359d0>"
      ]
     },
     "execution_count": 10,
     "metadata": {},
     "output_type": "execute_result"
    },
    {
     "data": {
      "image/png": "[encoded data removed]",
      "text/plain": [
       "<Figure size 432x288 with 1 Axes>"
      ]
     },
     "metadata": {
      "needs_background": "light"
     },
     "output_type": "display_data"
    }
   ],
   "source": [
    "# parse out the information for each champ for easier plotting.\n",
    "champion_df_dict = lolA.parse_champion_timeline_dataframe(tsData_expanded)\n",
    "\n",
    "# Or select a roll\n",
    "print('List of roles avaliable: ',tsData_expanded['individualPosition'].unique())\n",
    "selected_role = 'BOTTOM'\n",
    "\n",
    "champs_to_plot = tsData_expanded[ tsData['individualPosition'] == selected_role ]\\\n",
    "                ['championName'].unique()\n",
    "\n",
    "df_key = 'trueDamageDone'\n",
    "for champ in champs_to_plot:\n",
    "    plt.plot(champion_df_dict[champ]['time'],champion_df_dict[champ][df_key])\n",
    "    plt.grid(True)\n",
    "    plt.xlabel('Minutes into game')\n",
    "    plt.ylabel(df_key)\n",
    "    \n",
    "plt.legend(champs_to_plot)\n"
   ]
  },
  {
   "cell_type": "markdown",
   "id": "8423b55d",
   "metadata": {},
   "source": [
    "Interestingly, by downloading several match timeline's and match summaries it is possible to compare statistics from multiple games.  The example below demonstrates how to plot the total gold for several games for a single summoner name."
   ]
  },
  {
   "cell_type": "code",
   "execution_count": 13,
   "id": "6b3af1a3",
   "metadata": {},
   "outputs": [
    {
     "data": {
      "image/png": "[encoded data removed]",
      "text/plain": [
       "<Figure size 432x288 with 1 Axes>"
      ]
     },
     "metadata": {
      "needs_background": "light"
     },
     "output_type": "display_data"
    }
   ],
   "source": [
    "# Comparing stats from game-to-game opposing to champ-to-champ in a single game.\n",
    "\n",
    "# Get the last 20 match id's for a summoner:\n",
    "summoner_name = 'Moving Object 1'\n",
    "list_of_games = lolA.get_list_of_matches(summoner_name=summoner_name) \n",
    "\n",
    "# filter list if necessary, for example the last five games in the list_of_games\n",
    "games_to_compare = list_of_games[-5:]\n",
    "\n",
    "# set up data for plotting\n",
    "game_data = {}\n",
    "multi_df_dict = {}\n",
    "for game in games_to_compare:\n",
    "    game_data[game] = lolA.create_champion_timeline_dataframe(game)\n",
    "    multi_df_dict[game] = lolA.parse_champion_timeline_dataframe(game_data[game], parse_on='summonerName')\n",
    "        \n",
    "df_key = 'totalGold'\n",
    "for game in multi_df_dict:\n",
    "    plt.plot(multi_df_dict[game][summoner_name]['time'],multi_df_dict[game][summoner_name][df_key])\n",
    "    plt.grid(True)\n",
    "    plt.xlabel('Minutes into game')\n",
    "    plt.ylabel(df_key)\n",
    "    plt.legend(games_to_compare)"
   ]
  },
  {
   "cell_type": "markdown",
   "id": "e0ff3302",
   "metadata": {},
   "source": [
    "Similaryly, the plot below shows the total number of minions kills over 5 different matches."
   ]
  },
  {
   "cell_type": "code",
   "execution_count": 14,
   "id": "3036c539",
   "metadata": {},
   "outputs": [
    {
     "data": {
      "image/png": "[encoded data removed]",
      "text/plain": [
       "<Figure size 432x288 with 1 Axes>"
      ]
     },
     "metadata": {
      "needs_background": "light"
     },
     "output_type": "display_data"
    }
   ],
   "source": [
    "df_key = 'minionsKilled'\n",
    "for game in game_data:\n",
    "    plt.plot(multi_df_dict[game][summoner_name]['time'],multi_df_dict[game][summoner_name][df_key])\n",
    "    plt.grid(True)\n",
    "    plt.xlabel('Minutes into game')\n",
    "    plt.ylabel(df_key)\n",
    "    plt.legend(games_to_compare)"
   ]
  }
 ],
 "metadata": {
  "kernelspec": {
   "display_name": "Python 3",
   "language": "python",
   "name": "python3"
  },
  "language_info": {
   "codemirror_mode": {
    "name": "ipython",
    "version": 3
   },
   "file_extension": ".py",
   "mimetype": "text/x-python",
   "name": "python",
   "nbconvert_exporter": "python",
   "pygments_lexer": "ipython3",
   "version": "3.8.5"
  }
 },
 "nbformat": 4,
 "nbformat_minor": 5
}

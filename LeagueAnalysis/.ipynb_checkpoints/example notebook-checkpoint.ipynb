{
 "cells": [
  {
   "cell_type": "markdown",
   "id": "571d52ee",
   "metadata": {},
   "source": [
    "## League Analysis Example\n",
    "\n",
    "A example of analysis in game data from riots api"
   ]
  },
  {
   "cell_type": "code",
   "execution_count": 1,
   "id": "a9b9aa0e",
   "metadata": {},
   "outputs": [],
   "source": [
    "import pandas as pd\n",
    "import matplotlib.pyplot as plt\n",
    "from matplotlib.pyplot import figure\n",
    "import numpy as np\n",
    "\n",
    "from LeagueAnalysis import LeagueAnalysis\n",
    "from pprint import pprint"
   ]
  },
  {
   "cell_type": "markdown",
   "id": "7932812a",
   "metadata": {},
   "source": [
    "### Firstly initalise the class with your working api key.\n",
    "You can obtain a api key from: https://developer.riotgames.com/. \n",
    "However, the api key is only valid for 24hours.  This is one of reasons for caching the reponses from riots api within a local databse."
   ]
  },
  {
   "cell_type": "code",
   "execution_count": 2,
   "id": "9bb8fcf2",
   "metadata": {},
   "outputs": [],
   "source": [
    "# Initalise the class with your working api key:\n",
    "apiKey = \"RGAPI-b0201a7b-93b7-48e4-a2d0-e162150cd6c7\"\n",
    "apiKey = \"RGAPI-92beeb21-7578-4ce6-ae63-b6dcc634fc77\"\n",
    "\n",
    "lolA = LeagueAnalysis(apiKey, summonerName=\"Froggen\" )"
   ]
  },
  {
   "cell_type": "markdown",
   "id": "9780af33",
   "metadata": {},
   "source": [
    "The create_mastery_table method uses information returned from champion-mastery-v4 and the data dragon to create the resulting dataframe."
   ]
  },
  {
   "cell_type": "code",
   "execution_count": 3,
   "id": "b36c1919",
   "metadata": {
    "scrolled": true
   },
   "outputs": [
    {
     "ename": "Exception",
     "evalue": "API key incorrect or expired.",
     "output_type": "error",
     "traceback": [
      "\u001b[1;31m---------------------------------------------------------------------------\u001b[0m",
      "\u001b[1;31mException\u001b[0m                                 Traceback (most recent call last)",
      "\u001b[1;32m<ipython-input-3-da68bc3bf3cb>\u001b[0m in \u001b[0;36m<module>\u001b[1;34m\u001b[0m\n\u001b[0;32m      1\u001b[0m \u001b[1;31m# Creating a champion mastery list:\u001b[0m\u001b[1;33m\u001b[0m\u001b[1;33m\u001b[0m\u001b[1;33m\u001b[0m\u001b[0m\n\u001b[1;32m----> 2\u001b[1;33m \u001b[0mdf\u001b[0m \u001b[1;33m=\u001b[0m  \u001b[0mlolA\u001b[0m\u001b[1;33m.\u001b[0m\u001b[0mcreate_mastery_table\u001b[0m\u001b[1;33m(\u001b[0m\u001b[1;33m)\u001b[0m\u001b[1;33m\u001b[0m\u001b[1;33m\u001b[0m\u001b[0m\n\u001b[0m\u001b[0;32m      3\u001b[0m \u001b[0mdf\u001b[0m\u001b[1;33m.\u001b[0m\u001b[0mhead\u001b[0m\u001b[1;33m(\u001b[0m\u001b[1;36m10\u001b[0m\u001b[1;33m)\u001b[0m\u001b[1;33m\u001b[0m\u001b[1;33m\u001b[0m\u001b[0m\n",
      "\u001b[1;32m~\\OneDrive\\Documents\\GitHub\\LeagueAnalysis\\LeagueAnalysis\\LeagueAnalysis.py\u001b[0m in \u001b[0;36mcreate_mastery_table\u001b[1;34m(self, summoner_name)\u001b[0m\n\u001b[0;32m    125\u001b[0m         \u001b[1;32mif\u001b[0m \u001b[1;34m\"status\"\u001b[0m \u001b[1;32min\u001b[0m \u001b[0mresult\u001b[0m\u001b[1;33m:\u001b[0m\u001b[1;33m\u001b[0m\u001b[1;33m\u001b[0m\u001b[0m\n\u001b[0;32m    126\u001b[0m             \u001b[1;32mif\u001b[0m \u001b[0mresult\u001b[0m\u001b[1;33m[\u001b[0m\u001b[1;34m\"status\"\u001b[0m\u001b[1;33m]\u001b[0m\u001b[1;33m[\u001b[0m\u001b[1;34m\"status_code\"\u001b[0m\u001b[1;33m]\u001b[0m \u001b[1;33m==\u001b[0m \u001b[1;36m403\u001b[0m\u001b[1;33m:\u001b[0m\u001b[1;33m\u001b[0m\u001b[1;33m\u001b[0m\u001b[0m\n\u001b[1;32m--> 127\u001b[1;33m                 \u001b[1;32mraise\u001b[0m \u001b[0mException\u001b[0m\u001b[1;33m(\u001b[0m\u001b[1;34m\"API key incorrect or expired.\"\u001b[0m\u001b[1;33m)\u001b[0m\u001b[1;33m\u001b[0m\u001b[1;33m\u001b[0m\u001b[0m\n\u001b[0m\u001b[0;32m    128\u001b[0m \u001b[1;33m\u001b[0m\u001b[0m\n\u001b[0;32m    129\u001b[0m         \u001b[0mdf\u001b[0m \u001b[1;33m=\u001b[0m \u001b[0mpd\u001b[0m\u001b[1;33m.\u001b[0m\u001b[0mDataFrame\u001b[0m\u001b[1;33m(\u001b[0m\u001b[0mresult\u001b[0m\u001b[1;33m)\u001b[0m\u001b[1;33m\u001b[0m\u001b[1;33m\u001b[0m\u001b[0m\n",
      "\u001b[1;31mException\u001b[0m: API key incorrect or expired."
     ]
    }
   ],
   "source": [
    "# Creating a champion mastery list:\n",
    "df =  lolA.create_mastery_table()\n",
    "df.head(10)"
   ]
  },
  {
   "cell_type": "markdown",
   "id": "3ba7a602",
   "metadata": {},
   "source": [
    "This method has the option to override/use another summoner name other than the one used int the initalisation, as can be seen below."
   ]
  },
  {
   "cell_type": "code",
   "execution_count": null,
   "id": "f33977ea",
   "metadata": {},
   "outputs": [],
   "source": [
    "# Creating a champion mastery list with a different summoner name :\n",
    "df =  lolA.create_mastery_table(summoner_name='Moving Object 2')\n",
    "df.head(10)"
   ]
  },
  {
   "cell_type": "markdown",
   "id": "5441f53b",
   "metadata": {},
   "source": [
    "Through the used of the match-v5 endpoing a timeline of events can obtained via the create_event_timeline_dataframe method."
   ]
  },
  {
   "cell_type": "code",
   "execution_count": null,
   "id": "d4d30977",
   "metadata": {},
   "outputs": [],
   "source": [
    "# create a event timeline dataframe for analysis\n",
    "result = lolA.create_event_timeline_dataframe('EUW1_5612017679')\n",
    "result.head()"
   ]
  },
  {
   "cell_type": "markdown",
   "id": "d90fef25",
   "metadata": {},
   "source": [
    "Dataframe manipulation can be implemented to filter down the dataframe for the events of interest."
   ]
  },
  {
   "cell_type": "code",
   "execution_count": null,
   "id": "07acd643",
   "metadata": {
    "scrolled": true
   },
   "outputs": [],
   "source": [
    "# from the event timeline dataframe obtain only the kills and special kills (multi-kills?)\n",
    "kill_df = result[ (result['type'] == 'CHAMPION_KILL') | (result['type'] == 'CHAMPION_SPECIAL_KILL')].copy()\n",
    "kill_df['time'] = kill_df['timestamp']/1000/60\n",
    "kill_df[['time','summonerName_victim','championName_victim','summonerName_killer','championName_killer']].sort_values('time').head()"
   ]
  },
  {
   "cell_type": "markdown",
   "id": "a63849a6",
   "metadata": {},
   "source": [
    "Another set of statistics provided the match-v5 endpoint are key statistics of the summoner every minute of the game. Such as total gold, and total damage dealt.  The create_champion_timeline_dataframe method will create a dataframe for all of these statistics.  However, some KPIs are nested within a dictionary and these can be extracted later if required."
   ]
  },
  {
   "cell_type": "code",
   "execution_count": null,
   "id": "667c5320",
   "metadata": {
    "scrolled": true
   },
   "outputs": [],
   "source": [
    "# Create the chamption timeline dataframe -- this is mainly stats and kpi's\n",
    "tsData = lolA.create_champion_timeline_dataframe('EUW1_5612017679')"
   ]
  },
  {
   "cell_type": "markdown",
   "id": "de00b464",
   "metadata": {},
   "source": [
    "The data within the champion timeline dataframe can be used to plot selected KPIs againts another chamption.  The cell below how to compare one summoner to another within a *single* game."
   ]
  },
  {
   "cell_type": "code",
   "execution_count": null,
   "id": "f229c0af",
   "metadata": {
    "scrolled": true
   },
   "outputs": [],
   "source": [
    "# Use the chamption timeline dataframe to plot the data\n",
    "\n",
    "# Expant the damage stats and champion stats if required\n",
    "champion_df_dict = lolA.parse_champion_timeline_dataframe(tsData)\n",
    "\n",
    "# Option 1: Plot everyones total gold:\n",
    "champs_to_plot = tsData['championName'].unique()\n",
    "\n",
    "# Option 2: Explicitly select the champs:\n",
    "champs_to_plot = ['Twitch','Xayah']\n",
    "\n",
    "# Option 3: Select a roll\n",
    "print('List of roles avaliable: ',tsData['individualPosition'].unique())\n",
    "champs_to_plot = tsData[ tsData['individualPosition'] == 'BOTTOM' ]['championName'].unique()\n",
    "\n",
    "# Option 4: Your own way of deciding how to plot data\n",
    "\n",
    "# Plotting the data\n",
    "plotting_key = 'totalGold'\n",
    "for champ in champs_to_plot:\n",
    "    plt.plot(champion_df_dict[champ]['time'],champion_df_dict[champ][plotting_key])\n",
    "    plt.grid(True)\n",
    "    plt.xlabel('Minutes into game')\n",
    "    plt.ylabel(plotting_key)\n",
    "    \n",
    "plt.legend(champs_to_plot)"
   ]
  },
  {
   "cell_type": "markdown",
   "id": "13c18d61",
   "metadata": {},
   "source": [
    "Some of the KPIs which are nested maybe of intrest, such as true daamage dealt. Implementing the expand_champion_stats method will expand these KPIs for the entire dataframe"
   ]
  },
  {
   "cell_type": "code",
   "execution_count": null,
   "id": "31d6671c",
   "metadata": {},
   "outputs": [],
   "source": [
    "%%time\n",
    "# expand the DataFrame for additional KPI's/Stats\n",
    "tsData_expanded = lolA.expand_champion_stats(tsData)"
   ]
  },
  {
   "cell_type": "markdown",
   "id": "4c8a895a",
   "metadata": {},
   "source": [
    "Similar to the plot above, the cell below plots the true damage dealt for the bot lane champions."
   ]
  },
  {
   "cell_type": "code",
   "execution_count": null,
   "id": "fa2cc601",
   "metadata": {},
   "outputs": [],
   "source": [
    "# parse out the information for each champ for easier plotting.\n",
    "champion_df_dict = lolA.parse_champion_timeline_dataframe(tsData_expanded)\n",
    "\n",
    "# Or select a roll\n",
    "print('List of roles avaliable: ',tsData_expanded['individualPosition'].unique())\n",
    "selected_role = 'BOTTOM'\n",
    "\n",
    "champs_to_plot = tsData_expanded[ tsData['individualPosition'] == selected_role ]\\\n",
    "                ['championName'].unique()\n",
    "\n",
    "df_key = 'trueDamageDone'\n",
    "for champ in champs_to_plot:\n",
    "    plt.plot(champion_df_dict[champ]['time'],champion_df_dict[champ][df_key])\n",
    "    plt.grid(True)\n",
    "    plt.xlabel('Minutes into game')\n",
    "    plt.ylabel(df_key)\n",
    "    \n",
    "plt.legend(champs_to_plot)\n"
   ]
  },
  {
   "cell_type": "markdown",
   "id": "8423b55d",
   "metadata": {},
   "source": [
    "Interestingly, by downloading several match timeline's and match summaries it is possible to compare statistics from multiple games.  The example below demonstrates how to plot the total gold for several games for a single summoner name."
   ]
  },
  {
   "cell_type": "code",
   "execution_count": null,
   "id": "6b3af1a3",
   "metadata": {},
   "outputs": [],
   "source": [
    "# Comparing stats from game-to-game opposing to champ-to-champ in a single game.\n",
    "\n",
    "# Get the last 20 match id's for a summoner:\n",
    "summoner_name = 'Moving Object 1'\n",
    "list_of_games = lolA.get_list_of_matches(summoner_name=summoner_name) \n",
    "\n",
    "# filter list if necessary, for example the last five games in the list_of_games\n",
    "games_to_compare = list_of_games[-5:]\n",
    "\n",
    "# set up data for plotting\n",
    "game_data = {}\n",
    "multi_df_dict = {}\n",
    "for game in games_to_compare:\n",
    "    game_data[game] = lolA.create_champion_timeline_dataframe(game)\n",
    "    multi_df_dict[game] = lolA.parse_champion_timeline_dataframe(game_data[game], parse_on='summonerName')\n",
    "        \n",
    "df_key = 'totalGold'\n",
    "for game in multi_df_dict:\n",
    "    plt.plot(multi_df_dict[game][summoner_name]['time'],multi_df_dict[game][summoner_name][df_key])\n",
    "    plt.grid(True)\n",
    "    plt.xlabel('Minutes into game')\n",
    "    plt.ylabel(df_key)\n",
    "    plt.legend(games_to_compare)"
   ]
  },
  {
   "cell_type": "markdown",
   "id": "e0ff3302",
   "metadata": {},
   "source": [
    "Similaryly, the plot below shows the total number of minions kills over 5 different matches."
   ]
  },
  {
   "cell_type": "code",
   "execution_count": null,
   "id": "3036c539",
   "metadata": {},
   "outputs": [],
   "source": [
    "df_key = 'minionsKilled'\n",
    "for game in game_data:\n",
    "    plt.plot(multi_df_dict[game][summoner_name]['time'],multi_df_dict[game][summoner_name][df_key])\n",
    "    plt.grid(True)\n",
    "    plt.xlabel('Minutes into game')\n",
    "    plt.ylabel(df_key)\n",
    "    plt.legend(games_to_compare)"
   ]
  }
 ],
 "metadata": {
  "kernelspec": {
   "display_name": "Python 3",
   "language": "python",
   "name": "python3"
  },
  "language_info": {
   "codemirror_mode": {
    "name": "ipython",
    "version": 3
   },
   "file_extension": ".py",
   "mimetype": "text/x-python",
   "name": "python",
   "nbconvert_exporter": "python",
   "pygments_lexer": "ipython3",
   "version": "3.8.5"
  }
 },
 "nbformat": 4,
 "nbformat_minor": 5
}
